{
 "cells": [
  {
   "cell_type": "markdown",
   "id": "58094f5b",
   "metadata": {},
   "source": [
    "# Channing_house_analysis"
   ]
  },
  {
   "cell_type": "code",
   "execution_count": 38,
   "id": "874a4529",
   "metadata": {},
   "outputs": [],
   "source": [
    "import pandas as pd\n",
    "import matplotlib.pyplot as plt\n",
    "import datetime\n",
    "import numpy as np\n",
    "from scipy import stats\n",
    "from scipy.stats import skew, t\n",
    "\n",
    "\n",
    "data = pd.read_csv('channing.csv')"
   ]
  },
  {
   "cell_type": "code",
   "execution_count": 10,
   "id": "252151f2",
   "metadata": {
    "scrolled": true
   },
   "outputs": [
    {
     "data": {
      "text/html": [
       "<div>\n",
       "<style scoped>\n",
       "    .dataframe tbody tr th:only-of-type {\n",
       "        vertical-align: middle;\n",
       "    }\n",
       "\n",
       "    .dataframe tbody tr th {\n",
       "        vertical-align: top;\n",
       "    }\n",
       "\n",
       "    .dataframe thead th {\n",
       "        text-align: right;\n",
       "    }\n",
       "</style>\n",
       "<table border=\"1\" class=\"dataframe\">\n",
       "  <thead>\n",
       "    <tr style=\"text-align: right;\">\n",
       "      <th></th>\n",
       "      <th>sex</th>\n",
       "      <th>entry</th>\n",
       "      <th>exit</th>\n",
       "      <th>time</th>\n",
       "      <th>status</th>\n",
       "    </tr>\n",
       "  </thead>\n",
       "  <tbody>\n",
       "    <tr>\n",
       "      <th>0</th>\n",
       "      <td>male</td>\n",
       "      <td>782</td>\n",
       "      <td>909</td>\n",
       "      <td>127</td>\n",
       "      <td>1</td>\n",
       "    </tr>\n",
       "    <tr>\n",
       "      <th>1</th>\n",
       "      <td>male</td>\n",
       "      <td>1020</td>\n",
       "      <td>1128</td>\n",
       "      <td>108</td>\n",
       "      <td>1</td>\n",
       "    </tr>\n",
       "    <tr>\n",
       "      <th>2</th>\n",
       "      <td>male</td>\n",
       "      <td>856</td>\n",
       "      <td>969</td>\n",
       "      <td>113</td>\n",
       "      <td>1</td>\n",
       "    </tr>\n",
       "    <tr>\n",
       "      <th>3</th>\n",
       "      <td>male</td>\n",
       "      <td>915</td>\n",
       "      <td>957</td>\n",
       "      <td>42</td>\n",
       "      <td>1</td>\n",
       "    </tr>\n",
       "    <tr>\n",
       "      <th>4</th>\n",
       "      <td>male</td>\n",
       "      <td>863</td>\n",
       "      <td>983</td>\n",
       "      <td>120</td>\n",
       "      <td>1</td>\n",
       "    </tr>\n",
       "  </tbody>\n",
       "</table>\n",
       "</div>"
      ],
      "text/plain": [
       "    sex  entry  exit  time  status\n",
       "0  male    782   909   127       1\n",
       "1  male   1020  1128   108       1\n",
       "2  male    856   969   113       1\n",
       "3  male    915   957    42       1\n",
       "4  male    863   983   120       1"
      ]
     },
     "execution_count": 10,
     "metadata": {},
     "output_type": "execute_result"
    }
   ],
   "source": [
    "data.head()"
   ]
  },
  {
   "cell_type": "code",
   "execution_count": 29,
   "id": "2bd6e6d0",
   "metadata": {},
   "outputs": [],
   "source": [
    "# analysis for the variable age at the time of entrance and exit\n",
    "data['age_at_entry_years'] = data['entry'] / 12\n",
    "data['age_at_exit_years'] = data['exit'] / 12\n",
    "# average age\n",
    "mean_age = data['age_at_entry_years'].mean()"
   ]
  },
  {
   "cell_type": "markdown",
   "id": "3c0c360f",
   "metadata": {},
   "source": [
    "### overall analysis of the dataset"
   ]
  },
  {
   "cell_type": "code",
   "execution_count": 28,
   "id": "f587c94c",
   "metadata": {},
   "outputs": [
    {
     "name": "stdout",
     "output_type": "stream",
     "text": [
      "Basic age statistics at the time of moving in:\n",
      "count    462.000000\n",
      "mean      75.489899\n",
      "std        5.776572\n",
      "min       61.083333\n",
      "25%       71.166667\n",
      "50%       75.041667\n",
      "75%       79.666667\n",
      "max       95.000000\n",
      "Name: age_at_entry_years, dtype: float64\n",
      "\n",
      "Basic age statistics at the time of moving out:\n",
      "count    462.000000\n",
      "mean      82.166126\n",
      "std        6.147330\n",
      "min       64.750000\n",
      "25%       78.250000\n",
      "50%       82.500000\n",
      "75%       85.916667\n",
      "max      100.583333\n",
      "Name: age_at_exit_years, dtype: float64\n"
     ]
    }
   ],
   "source": [
    "# Basic descriptive statistics\n",
    "print(\"Basic age statistics at the time of moving in:\")\n",
    "print(data['age_at_entry_years'].describe())\n",
    "\n",
    "print(\"\\nBasic age statistics at the time of moving out:\")\n",
    "print(data['age_at_exit_years'].describe())"
   ]
  },
  {
   "cell_type": "markdown",
   "id": "3056ff5d",
   "metadata": {},
   "source": [
    "#### At the time of moving in, the average age of the individuals was approximately 75.49 years (with a standard deviation of 5.78 years). The youngest person in the group was 61, while the oldest was 95 years old. The 25th percentile (first quartile) indicates that 25% of the individuals were 71 years old or younger, the 50th percentile (second quartile or median) suggests that half of the individuals were 75 years old or younger, and the 75th percentile (third quartile) shows that 75% of the individuals were 79 years old or younger at the time of moving in.\n",
    "\n",
    "#### At the time of moving out, the average age of the individuals was approximately 82 years, with a standard deviation of 6.15 years. The youngest person at the time of moving out was 64 years old, while the oldest was 100 years old. Similar to the age at moving in, the 25th percentile indicates that 25% of the individuals were 78 years old or younger, the 50th percentile suggests that half of the individuals were 82 years old or younger, and the 75th percentile shows that 75% of the individuals were 85 years old or younger at the time of moving out.\n",
    "\n",
    "#### This data provides valuable insights into the age distribution of individuals when they entered and exited the Channing House, helping to understand the population's age dynamics during this period.\n",
    "\n",
    "\n",
    "\n",
    "\n"
   ]
  },
  {
   "cell_type": "markdown",
   "id": "dadcccbd",
   "metadata": {},
   "source": [
    "### Graphs for age analysis"
   ]
  },
  {
   "cell_type": "code",
   "execution_count": 30,
   "id": "13cd6cc6",
   "metadata": {},
   "outputs": [
    {
     "data": {
      "image/png": "[encoded data removed]",
      "text/plain": [
       "<Figure size 640x480 with 1 Axes>"
      ]
     },
     "metadata": {},
     "output_type": "display_data"
    },
    {
     "data": {
      "image/png": "[encoded data removed]",
      "text/plain": [
       "<Figure size 640x480 with 1 Axes>"
      ]
     },
     "metadata": {},
     "output_type": "display_data"
    },
    {
     "data": {
      "image/png": "[encoded data removed]",
      "text/plain": [
       "<Figure size 640x480 with 1 Axes>"
      ]
     },
     "metadata": {},
     "output_type": "display_data"
    }
   ],
   "source": [
    "# Age histogram at time of moving in\n",
    "plt.hist(data['age_at_entry_years'], bins=20, color='skyblue', edgecolor='black')\n",
    "plt.title('Age histogram at time of moving in')\n",
    "plt.xlabel('Age (years)')\n",
    "plt.ylabel('number of people')\n",
    "plt.show()\n",
    "\n",
    "# Age histogram at time of moving out\n",
    "plt.hist(data['age_at_exit_years'], bins=20, color='lightgreen', edgecolor='black')\n",
    "plt.title('Age histogram at time of moving out')\n",
    "plt.xlabel('Age (years)')\n",
    "plt.ylabel('number of people')\n",
    "plt.show()\n",
    "\n",
    "# boxplot at time of moving in\n",
    "plt.boxplot(data['age_at_entry_years'])\n",
    "plt.title('Boxplot for age at time of moving in')\n",
    "plt.ylabel('Age (years)')\n",
    "plt.show()"
   ]
  },
  {
   "cell_type": "code",
   "execution_count": 31,
   "id": "2e6c7f7d",
   "metadata": {
    "scrolled": true
   },
   "outputs": [
    {
     "name": "stdout",
     "output_type": "stream",
     "text": [
      "\n",
      "Correlaton matrix:\n",
      "          entry      exit      time\n",
      "entry  1.000000  0.770778 -0.254700\n",
      "exit   0.770778  1.000000  0.416753\n",
      "time  -0.254700  0.416753  1.000000\n"
     ]
    }
   ],
   "source": [
    "# Correlation analysis between age at entry, age of departure, length of stay, and status\n",
    "correlation_matrix = data[['entry', 'exit', 'time']].corr()\n",
    "print(\"\\nCorrelaton matrix:\")\n",
    "print(correlation_matrix)"
   ]
  },
  {
   "cell_type": "code",
   "execution_count": 32,
   "id": "074f8cbb",
   "metadata": {},
   "outputs": [
    {
     "data": {
      "image/png": "[encoded data removed]",
      "text/plain": [
       "<Figure size 600x600 with 1 Axes>"
      ]
     },
     "metadata": {},
     "output_type": "display_data"
    }
   ],
   "source": [
    "# Counting the number of each sex in the set\n",
    "gender_counts = data['sex'].value_counts()\n",
    "\n",
    "\n",
    "plt.figure(figsize=(6, 6))\n",
    "plt.pie(gender_counts, labels=gender_counts.index, autopct='%1.1f%%', colors=['hotpink', 'skyblue'])\n",
    "plt.title('Gender breakdown')\n",
    "plt.show()"
   ]
  },
  {
   "cell_type": "markdown",
   "id": "c199adf7",
   "metadata": {},
   "source": [
    "## \"Test the hypothesis that the expected age for women to move into a retirement home is 74 years.\" \n",
    "### Create confidence intervals for the expected age. Is 74 belongs to this range?"
   ]
  },
  {
   "cell_type": "code",
   "execution_count": 16,
   "id": "a9464abb",
   "metadata": {},
   "outputs": [
    {
     "name": "stdout",
     "output_type": "stream",
     "text": [
      "75.48989898989898\n"
     ]
    }
   ],
   "source": [
    "print(mean_age)"
   ]
  },
  {
   "cell_type": "code",
   "execution_count": 17,
   "id": "35826fdc",
   "metadata": {},
   "outputs": [],
   "source": [
    "# selecting female data only (sex == 'female')\n",
    "data_female = data[data['sex'] == 'female']"
   ]
  },
  {
   "cell_type": "code",
   "execution_count": 18,
   "id": "4af41b19",
   "metadata": {},
   "outputs": [],
   "source": [
    "# average age\n",
    "mean_age_female = data_female['age_at_entry_years'].mean()"
   ]
  },
  {
   "cell_type": "code",
   "execution_count": 19,
   "id": "10fde83d",
   "metadata": {},
   "outputs": [
    {
     "name": "stdout",
     "output_type": "stream",
     "text": [
      "75.2230593607306\n"
     ]
    }
   ],
   "source": [
    "print(mean_age_female)"
   ]
  },
  {
   "cell_type": "code",
   "execution_count": 20,
   "id": "9e65da6e",
   "metadata": {},
   "outputs": [],
   "source": [
    "# number of observations\n",
    "n = len(data_female)"
   ]
  },
  {
   "cell_type": "code",
   "execution_count": 21,
   "id": "a4076c02",
   "metadata": {},
   "outputs": [],
   "source": [
    "# standard deviation\n",
    "std_dev_age = data_female['age_at_entry_years'].std()"
   ]
  },
  {
   "cell_type": "code",
   "execution_count": 22,
   "id": "d94f0597",
   "metadata": {},
   "outputs": [],
   "source": [
    "# Calculation of the confidence intervals for the expected age (assuming a confidence level of 95%)\n",
    "confidence_interval = t.interval(0.95, n - 1, loc=mean_age, scale=std_dev_age / np.sqrt(n))\n"
   ]
  },
  {
   "cell_type": "code",
   "execution_count": 23,
   "id": "a652310d",
   "metadata": {
    "scrolled": true
   },
   "outputs": [
    {
     "name": "stdout",
     "output_type": "stream",
     "text": [
      "Average moving age for women: 75.48989898989898\n",
      "Standard Deviation: 5.700913689633422\n",
      "Confidence intervals: (74.90309568414479, 76.07670229565316)\n"
     ]
    }
   ],
   "source": [
    "print(\"Average moving age for women:\", mean_age)\n",
    "print(\"Standard Deviation:\", std_dev_age)\n",
    "print(\"Confidence intervals:\", confidence_interval)"
   ]
  },
  {
   "cell_type": "code",
   "execution_count": 40,
   "id": "3cd50830",
   "metadata": {},
   "outputs": [
    {
     "name": "stdout",
     "output_type": "stream",
     "text": [
      "T-Statistic: 4.611307224590075\n",
      "Critical Value: 1.9651232162743544\n",
      "Result: Rejection of the null hypothesis\n"
     ]
    }
   ],
   "source": [
    "# Statistic of T-test\n",
    "t_statistic = (mean_age_female - 74) / (std_dev_age / np.sqrt(n))\n",
    "\n",
    "degrees_freedom = n - 1\n",
    "alpha = 0.05\n",
    "\n",
    "# critical value\n",
    "critical_value = stats.t.ppf(1 - alpha / 2, degrees_freedom)\n",
    "\n",
    "# comparison of statistics with critical value\n",
    "if abs(t_statistic) > critical_value:\n",
    "    result = \"Rejection of the null hypothesis\"\n",
    "else:\n",
    "    result = \"Fail to reject the null hypothesis\"\n",
    "\n",
    "# results\n",
    "print(\"T-Statistic:\", t_statistic)\n",
    "print(\"Critical Value:\", critical_value)\n",
    "print(\"Result:\", result)\n",
    "\n",
    "\n",
    "\n",
    "\n",
    "\n"
   ]
  },
  {
   "cell_type": "markdown",
   "id": "c2e9884f",
   "metadata": {},
   "source": [
    "The calculated t-statistic (4.611) would have been greater than the critical value (1.965), \n",
    "indicating a significant difference between the observed data and the expected age of 74 years for women moving into a quiet old-age house. \n",
    "This rejection of the null hypothesis would imply that there is evidence to suggest that the average age at which women move into such a facility is different from 74 years.\n",
    "In simpler terms, the data would have provided enough support to conclude that the expected age for women to move into a quiet old-age house is not 74 years, and there could be a significant difference in the actual average age."
   ]
  },
  {
   "cell_type": "markdown",
   "id": "bbc26260",
   "metadata": {},
   "source": [
    "### Find the estimator of the skewness coefficient for the variable describing the age of the senior and the appropriate confidence interval for this coefficient. \n",
    "### At a significance level of 5%, can we say that the distribution of the age variable is symmetrical? \n",
    "#### Hint: having confidence intervals at a certain confidence level, running a test can mean checking if 0 is within the range."
   ]
  },
  {
   "cell_type": "code",
   "execution_count": 41,
   "id": "150184c1",
   "metadata": {},
   "outputs": [
    {
     "name": "stdout",
     "output_type": "stream",
     "text": [
      "Skewness coefficient estimator: 0.2084375677039889\n",
      "Confidence interval: (-0.014061069650797259, 0.43093620505877506)\n"
     ]
    }
   ],
   "source": [
    "# the skewness coefficient estimator\n",
    "skewness = skew(data['entry'])\n",
    "\n",
    "# Numbers of observations\n",
    "n = len(data['entry'])\n",
    "\n",
    "# Calculation of the standard deviation of the skewness coefficient estimator\n",
    "std_err = np.sqrt(6 * (n - 2) / ((n + 1) * (n + 3)))\n",
    "\n",
    "# Calculation of the confidence interval for the skewness factor (assuming a confidence level of 95%)\n",
    "confidence_interval = t.interval(0.95, n - 1, loc=skewness, scale=std_err)\n",
    "\n",
    "print(\"Skewness coefficient estimator:\", skewness)\n",
    "print(\"Confidence interval:\", confidence_interval)"
   ]
  },
  {
   "cell_type": "markdown",
   "id": "d93fea4c",
   "metadata": {},
   "source": [
    "### At the significance level of 5% we can accept the hypothesis that the distribution of the variable is symmetrical"
   ]
  },
  {
   "cell_type": "code",
   "execution_count": null,
   "id": "025b397f",
   "metadata": {},
   "outputs": [],
   "source": []
  }
 ],
 "metadata": {
  "kernelspec": {
   "display_name": "Python 3 (ipykernel)",
   "language": "python",
   "name": "python3"
  },
  "language_info": {
   "codemirror_mode": {
    "name": "ipython",
    "version": 3
   },
   "file_extension": ".py",
   "mimetype": "text/x-python",
   "name": "python",
   "nbconvert_exporter": "python",
   "pygments_lexer": "ipython3",
   "version": "3.11.3"
  }
 },
 "nbformat": 4,
 "nbformat_minor": 5
}
